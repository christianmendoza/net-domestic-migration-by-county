{
 "cells": [
  {
   "cell_type": "markdown",
   "id": "1b316871-7618-4543-a0fb-844c8a0f193b",
   "metadata": {},
   "source": [
    "# U.S. Net Domestic Migration by County: 2020-2022\n",
    "### 1. Introduction\n",
    "\n",
    "The dataset explored in this project is from [census.gov](https://www.census.gov/data/datasets/time-series/demo/popest/2020s-counties-total.html#v2022). Labeled `CO-EST2022-COMP`, this dataset contains resident population change by county from 2020 to 2022. This project aims to recreate the U.S. Census Bureau's dot-density map, found here:\n",
    "\n",
    "[Two Years Into Pandemic, Domestic Migration Trends Shifted](https://www.census.gov/library/stories/2023/03/domestic-migration-trends-shifted.html#titlecore-ebc32996d9)"
   ]
  },
  {
   "cell_type": "code",
   "execution_count": null,
   "id": "be600351-46dd-446c-b86c-237cd1b9ac1f",
   "metadata": {},
   "outputs": [],
   "source": []
  },
  {
   "cell_type": "code",
   "execution_count": 1,
   "id": "805ef2e2-ff78-4b3b-b200-46b85b61ef8d",
   "metadata": {
    "tags": []
   },
   "outputs": [],
   "source": [
    "import pandas as pd\n",
    "import warnings\n",
    "\n",
    "pd.set_option('display.max_columns', None)\n",
    "warnings.filterwarnings('ignore')"
   ]
  },
  {
   "cell_type": "code",
   "execution_count": null,
   "id": "b1efd444-5b3c-4986-9c3c-0b63a20d80fa",
   "metadata": {},
   "outputs": [],
   "source": []
  },
  {
   "cell_type": "markdown",
   "id": "d7bb4b5e-7439-487c-8790-7faa62fb2330",
   "metadata": {},
   "source": [
    "### 2. Download the dataset"
   ]
  },
  {
   "cell_type": "code",
   "execution_count": null,
   "id": "405ff48a-dc0d-4403-b0d4-4a628959f4dd",
   "metadata": {
    "tags": []
   },
   "outputs": [],
   "source": [
    "file = 'https://www2.census.gov/programs-surveys/popest/tables/2020-2022/counties/totals/co-est2022-comp.xlsx'\n",
    "# file = 'data/co-est2022-comp.xlsx'\n",
    "\n",
    "df = pd.read_excel(file, sheet_name='CO-EST2022-COMP',\n",
    "                   skiprows=4, usecols=[0, 14], header=0,\n",
    "                   names=['geographic_area', 'domestic'])\n",
    "display(df.head())\n",
    "display(df.info())"
   ]
  },
  {
   "cell_type": "code",
   "execution_count": null,
   "id": "e6eb5665-d6e5-40f7-bb5e-82e61cee33be",
   "metadata": {},
   "outputs": [],
   "source": []
  },
  {
   "cell_type": "markdown",
   "id": "dcbe96ed-6089-4882-aa7f-293eb2bbf290",
   "metadata": {},
   "source": [
    "### 3. Clean and wrangle"
   ]
  },
  {
   "cell_type": "code",
   "execution_count": null,
   "id": "3b39f190-a5f8-4145-8bf2-a1e56c58faf6",
   "metadata": {
    "tags": []
   },
   "outputs": [],
   "source": [
    "# check what are the null values\n",
    "df[df['domestic'].isna()]"
   ]
  },
  {
   "cell_type": "code",
   "execution_count": null,
   "id": "9e959502-36cb-4d2c-81ed-5af067ac070b",
   "metadata": {
    "tags": []
   },
   "outputs": [],
   "source": [
    "# remove those rows\n",
    "df = df[df['domestic'].notna()]\n",
    "df.info()"
   ]
  },
  {
   "cell_type": "code",
   "execution_count": null,
   "id": "037d6ef6-915c-4074-9621-f8acc0a77ee7",
   "metadata": {
    "tags": []
   },
   "outputs": [],
   "source": [
    "# convert column from float to int\n",
    "df['domestic'] = df['domestic'].astype('int')\n",
    "df.head()"
   ]
  },
  {
   "cell_type": "code",
   "execution_count": null,
   "id": "8dddf863-d558-400e-a162-06d8e34b3bad",
   "metadata": {
    "tags": []
   },
   "outputs": [],
   "source": [
    "# check if all rows contains a comma, i.e. are in `County, State` format\n",
    "df[~df['geographic_area'].str.contains(',',)]"
   ]
  },
  {
   "cell_type": "code",
   "execution_count": null,
   "id": "24e19aae-5300-4545-a742-7e3d9fc82632",
   "metadata": {
    "tags": []
   },
   "outputs": [],
   "source": [
    "# remove top-level USA row\n",
    "df = df[df['geographic_area'].str.contains(',',)]\n",
    "df.head()"
   ]
  },
  {
   "cell_type": "code",
   "execution_count": null,
   "id": "fe621bb4-0ca6-4415-88ca-7f13e018fe57",
   "metadata": {
    "tags": []
   },
   "outputs": [],
   "source": [
    "# split into separate `county_name` and `state_name` columns\n",
    "df[['county_name', 'state_name']] = df['geographic_area'].str.split(', ', 1, expand=True)\n",
    "df.drop(columns='geographic_area', inplace=True)\n",
    "df.head()"
   ]
  },
  {
   "cell_type": "code",
   "execution_count": null,
   "id": "c239d042-85bc-49b9-b24f-51d60ffcbbba",
   "metadata": {
    "tags": []
   },
   "outputs": [],
   "source": [
    "# strip off the prefixed '.'\n",
    "df['county_name'] = df['county_name'].str.strip('.')\n",
    "df.head()"
   ]
  },
  {
   "cell_type": "code",
   "execution_count": null,
   "id": "9a9e0c63-e7ed-4329-8ba1-ac77bfb83e7f",
   "metadata": {
    "tags": []
   },
   "outputs": [],
   "source": [
    "# check if any null values\n",
    "df.isnull().values.any()"
   ]
  },
  {
   "cell_type": "code",
   "execution_count": null,
   "id": "463d9698-2637-4b1d-830e-413a03de0d98",
   "metadata": {
    "tags": []
   },
   "outputs": [],
   "source": [
    "# how many counties\n",
    "df.count()"
   ]
  },
  {
   "cell_type": "code",
   "execution_count": null,
   "id": "8b808433-9ca6-4a6e-b3e7-fab76a5ad5ef",
   "metadata": {},
   "outputs": [],
   "source": []
  },
  {
   "cell_type": "markdown",
   "id": "3b1ec4d9-20ef-426f-9f97-4a713e8c1441",
   "metadata": {},
   "source": [
    "### 4. Download the cartographic boundary shapefile for all the counties\n",
    "\n",
    "From https://www.census.gov/geographies/mapping-files/time-series/geo/cartographic-boundary.html#ti1804832544:\n",
    "\n",
    "- 1 : 5,000,000 (national) [shapefile](https://www2.census.gov/geo/tiger/GENZ2021/shp/cb_2021_us_county_5m.zip) \\[2.6 MB\\]"
   ]
  },
  {
   "cell_type": "code",
   "execution_count": null,
   "id": "bb6db521-e830-40e5-898b-105a05d6e347",
   "metadata": {
    "tags": []
   },
   "outputs": [],
   "source": [
    "import geopandas as gpd\n",
    "import random\n",
    "\n",
    "zip_file = 'zip://data/cb_2021_us_county_5m.zip'\n",
    "\n",
    "df_counties = gpd.read_file(zip_file)\n",
    "df_counties = df_counties[['GEOID', 'NAME', 'NAMELSAD', 'STUSPS', 'STATE_NAME', 'geometry']]\n",
    "df_counties.columns = ['geoid', 'county', 'county_name', 'state', 'state_name', 'geometry']\n",
    "df_counties.head()"
   ]
  },
  {
   "cell_type": "code",
   "execution_count": null,
   "id": "5722bfcd-fdaa-4be4-8e63-6279dd8a396a",
   "metadata": {
    "tags": []
   },
   "outputs": [],
   "source": [
    "df_counties.info()"
   ]
  },
  {
   "cell_type": "code",
   "execution_count": null,
   "id": "e7a56957-468c-47c1-ad24-bf0ebd890f14",
   "metadata": {
    "tags": []
   },
   "outputs": [],
   "source": [
    "# merge geometries to the `migraton` dataframe\n",
    "df_merged = pd.merge(df, df_counties.drop(columns=['county', 'state'])\n",
    "                     , on=['county_name', 'state_name']\n",
    "                     , how='left')\n",
    "df_merged.head()"
   ]
  },
  {
   "cell_type": "code",
   "execution_count": null,
   "id": "e674d64a-e12c-44f7-b28e-0f80a9daed04",
   "metadata": {
    "tags": []
   },
   "outputs": [],
   "source": [
    "df_merged.info()"
   ]
  },
  {
   "cell_type": "code",
   "execution_count": null,
   "id": "7ffc801e-162c-4ae8-a507-104b22426dc1",
   "metadata": {
    "tags": []
   },
   "outputs": [],
   "source": [
    "# check which rows have null values in the `geoid` and `geometry` columns\n",
    "df_merged[df_merged['geoid'].isna()]"
   ]
  },
  {
   "cell_type": "markdown",
   "id": "b67bb58c-2d07-4aec-9a2a-a278ed4ba45d",
   "metadata": {},
   "source": [
    "Per the [Office of the Federal Register](https://www.federalregister.gov/documents/2020/12/14/2020-27459/change-to-county-equivalents-in-the-state-of-connecticut), Connecticut is transitioning to `Planning Regions` (county equivalents), which the Census Bureau proposed to implement in 2023.\n",
    "\n",
    "The planning regions and their new FIPS codes:\n",
    "\n",
    "| Name                                           | FIPS state-county code  |\n",
    "|------------------------------------------------|-------------------------|\n",
    "| Capitol Planning Region                        | 09017                   |\n",
    "| Greater Bridgeport Planning Region             | 09019                   |\n",
    "| Lower Connecticut River Valley Planning Region | 09021                   |\n",
    "| Naugatuck Valley Planning Region               | 09023                   |\n",
    "| Northeastern Connecticut Planning Region       | 09025                   |\n",
    "| Northwest Hills Planning Region                | 09027                   |\n",
    "| South Central Connecticut Planning Region      | 09029                   |\n",
    "| Southeastern Connecticut Planning Region       | 09031                   |\n",
    "| Western Connecticut Planning Region            | 09033                   |\n",
    "\n",
    "\n",
    "<img src='https://portal.ct.gov/lib/opm/igp/org/cogs/rcogs.png' alt='County Equivalents - COGs' title='County Equivalents - COGs' width='600' />\n",
    "\n",
    "Source: https://libguides.ctstatelibrary.org/regionalplanning/maps"
   ]
  },
  {
   "cell_type": "markdown",
   "id": "97d1527b-24ff-4edd-88bc-f459c31c823f",
   "metadata": {},
   "source": [
    "The `.geojson` file for the new planning regions can be found here:\n",
    "https://geodata.ct.gov/maps/743ea4808b85469d8d9f7c5e6b661ee8"
   ]
  },
  {
   "cell_type": "code",
   "execution_count": null,
   "id": "611b0fe8-2ea3-43d7-a3f1-12a184da3e9a",
   "metadata": {
    "tags": []
   },
   "outputs": [],
   "source": [
    "# load the geojson file for the new CT planning regions \n",
    "file_ct = open('data/Connecticut_Planning_Region_Index.geojson')\n",
    "df_ct = gpd.read_file(file_ct)\n",
    "df_ct"
   ]
  },
  {
   "cell_type": "code",
   "execution_count": null,
   "id": "1b130cd7-085d-4958-930b-1203bbaca1ce",
   "metadata": {
    "tags": []
   },
   "outputs": [],
   "source": [
    "# set the updated `geoid` and `geometry` values accordingly\n",
    "df_merged.at[309, 'geoid'] = '09017'\n",
    "df_merged.at[310, 'geoid'] = '09019'\n",
    "df_merged.at[311, 'geoid'] = '09021'\n",
    "df_merged.at[312, 'geoid'] = '09023'\n",
    "df_merged.at[313, 'geoid'] = '09025'\n",
    "df_merged.at[314, 'geoid'] = '09027'\n",
    "df_merged.at[315, 'geoid'] = '09029'\n",
    "df_merged.at[316, 'geoid'] = '09031'\n",
    "df_merged.at[317, 'geoid'] = '09033'\n",
    "\n",
    "df_merged.at[309, 'geometry'] = df_ct.at[0, 'geometry']\n",
    "df_merged.at[310, 'geometry'] = df_ct.at[1, 'geometry']\n",
    "df_merged.at[311, 'geometry'] = df_ct.at[2, 'geometry']\n",
    "df_merged.at[312, 'geometry'] = df_ct.at[3, 'geometry']\n",
    "df_merged.at[313, 'geometry'] = df_ct.at[4, 'geometry']\n",
    "df_merged.at[314, 'geometry'] = df_ct.at[5, 'geometry']\n",
    "df_merged.at[315, 'geometry'] = df_ct.at[6, 'geometry']\n",
    "df_merged.at[316, 'geometry'] = df_ct.at[7, 'geometry']\n",
    "df_merged.at[317, 'geometry'] = df_ct.at[8, 'geometry']\n",
    "\n",
    "df_merged.query('state_name==\"Connecticut\"')"
   ]
  },
  {
   "cell_type": "code",
   "execution_count": null,
   "id": "99e942b9-5c17-4a87-a0d5-eea46e28975b",
   "metadata": {
    "tags": []
   },
   "outputs": [],
   "source": [
    "# double-check there are no null values\n",
    "df_merged[df_merged['geoid'].isna()]"
   ]
  },
  {
   "cell_type": "code",
   "execution_count": null,
   "id": "371d1d98-4fb7-437b-b932-384e269e6429",
   "metadata": {
    "tags": []
   },
   "outputs": [],
   "source": [
    "df_merged.info()"
   ]
  },
  {
   "cell_type": "code",
   "execution_count": null,
   "id": "8b074565-120e-4065-8251-7e99ccd34db6",
   "metadata": {
    "tags": []
   },
   "outputs": [],
   "source": [
    "# convert the merged dataframe to a geopandas dataframe\n",
    "df_merged = gpd.GeoDataFrame(df_merged, geometry='geometry')\n",
    "\n",
    "# calculate bbox for each geometry\n",
    "df_merged = pd.concat([df_merged, df_merged.bounds], axis=1)\n",
    "\n",
    "df_merged.head()"
   ]
  },
  {
   "cell_type": "code",
   "execution_count": null,
   "id": "245af35f-1415-4a4e-8606-0ae4ba2fd2c6",
   "metadata": {},
   "outputs": [],
   "source": []
  },
  {
   "cell_type": "markdown",
   "id": "e663abe1-a11a-4cc3-8688-3e93c427ebeb",
   "metadata": {},
   "source": [
    "### 5. Visualize the top 10 counties of both positive and negative net domestic migration"
   ]
  },
  {
   "cell_type": "code",
   "execution_count": null,
   "id": "c797cdd4-6cec-41f1-b25b-199b6f9fc6b7",
   "metadata": {
    "tags": []
   },
   "outputs": [],
   "source": [
    "# initialize plotly\n",
    "import plotly.express as px\n",
    "import plotly.graph_objects as go\n",
    "\n",
    "def show_fig():\n",
    "    fig.show(renderer='png', width=800)"
   ]
  },
  {
   "cell_type": "code",
   "execution_count": null,
   "id": "783739b1-c4e9-4df2-9815-7c9b588a94f2",
   "metadata": {
    "tags": []
   },
   "outputs": [],
   "source": [
    "df_top_10 = df_merged.sort_values('domestic', ascending=False)[['domestic', 'county_name', 'state_name']].head(10)\n",
    "df_top_10['location'] = df_top_10['county_name'] + ', ' + df_top_10['state_name']\n",
    "title = 'Positive Net Domestic Migration - Top 10 counties'\n",
    "\n",
    "fig = px.bar(\n",
    "    df_top_10\n",
    "    , x='domestic', y='location'\n",
    "    , orientation='h'\n",
    ")\n",
    "\n",
    "fig.update_layout(\n",
    "    title=title,\n",
    "    xaxis_title='Net Domestic Migration',\n",
    "    yaxis_title='County',\n",
    "    margin=dict(l=50, r=50, t=50, b=50)\n",
    ")\n",
    "\n",
    "fig['layout']['yaxis']['autorange'] = 'reversed'\n",
    "\n",
    "show_fig()"
   ]
  },
  {
   "cell_type": "code",
   "execution_count": null,
   "id": "6a369751-fbb6-450c-9fa9-353b04fca233",
   "metadata": {
    "tags": []
   },
   "outputs": [],
   "source": [
    "df_bottom_10 = df_merged.sort_values('domestic', ascending=False)[['domestic', 'county_name', 'state_name']].tail(10)\n",
    "df_bottom_10['location'] = df_bottom_10['county_name'] + ', ' + df_bottom_10['state_name']\n",
    "title = 'Negative Net Domestic Migration - Top 10 counties'\n",
    "\n",
    "fig = px.bar(\n",
    "    df_bottom_10\n",
    "    , x='domestic', y='location'\n",
    "    , orientation='h'\n",
    ")\n",
    "\n",
    "fig.update_layout(\n",
    "    title=title,\n",
    "    xaxis_title='Net Domestic Migration',\n",
    "    yaxis_title='County',\n",
    "    margin=dict(l=50, r=50, t=50, b=50)\n",
    ")\n",
    "\n",
    "show_fig()"
   ]
  },
  {
   "cell_type": "code",
   "execution_count": null,
   "id": "e380dfaa-ace0-47c8-bef9-c0a008cd0fcc",
   "metadata": {},
   "outputs": [],
   "source": []
  },
  {
   "cell_type": "markdown",
   "id": "400fd976-fb25-44aa-813c-e92d75c203da",
   "metadata": {},
   "source": [
    "### 6. Generate the coordinates for the dot-density map\n",
    "\n",
    "Randomly distribute the `domestic` value throughout the counties to visualize the variation in density across the counties."
   ]
  },
  {
   "cell_type": "code",
   "execution_count": null,
   "id": "736cc273-25ff-4402-b9f8-b9b29b610857",
   "metadata": {
    "tags": []
   },
   "outputs": [],
   "source": [
    "# recalculate the `domestic` values as 1 per 100 persons (rounded to nearest 100)\n",
    "factor = 100\n",
    "\n",
    "df_merged[['domestic']] = round(df_merged[['domestic']] / factor).astype('int')\n",
    "df_merged.sort_values('domestic', ascending=False)"
   ]
  },
  {
   "cell_type": "code",
   "execution_count": null,
   "id": "581ea7db-8797-4981-9419-e27c5628ecc2",
   "metadata": {
    "tags": []
   },
   "outputs": [],
   "source": [
    "# add a column to denote a positive or negative net migration\n",
    "df_merged['net_migration'] = df_merged['domestic'].apply(lambda x: 'positive' if x>0 else 'negative')\n",
    "df_merged"
   ]
  },
  {
   "cell_type": "code",
   "execution_count": null,
   "id": "4c7e4fac-dbbf-4368-91ad-d78adb4663e1",
   "metadata": {
    "tags": []
   },
   "outputs": [],
   "source": [
    "from shapely.geometry import Point\n",
    "\n",
    "# function to randomly distribute coordinates within the county geometry\n",
    "def random_coordinates(row):\n",
    "    results = []\n",
    "    count = 0\n",
    "    val = row['domestic']\n",
    "    net_migration = row['net_migration']\n",
    "    while count < abs(val):\n",
    "        x = random.uniform(row['minx'], row['maxx'])\n",
    "        y = random.uniform(row['miny'], row['maxy'])\n",
    "        pt = Point(x, y)\n",
    "        if pt.within(row['geometry']):\n",
    "            count += 1\n",
    "            results.append([net_migration, x, y])\n",
    "    return pd.DataFrame(results, columns=('net_migration', 'x', 'y'))"
   ]
  },
  {
   "cell_type": "code",
   "execution_count": null,
   "id": "c182e21a-e477-4440-ba75-bbea179e6288",
   "metadata": {
    "tags": []
   },
   "outputs": [],
   "source": [
    "# apply the function to every row of the merged dataframe\n",
    "results = df_merged.apply(random_coordinates, axis=1)\n",
    "\n",
    "# unpack the series and concatenate the dataframes\n",
    "results = pd.concat(results.tolist(), ignore_index=True)\n",
    "\n",
    "# write to csv\n",
    "out_csv = 'data/net-domestic-migration-dots-100.csv'\n",
    "results.to_csv(out_csv, index=False)"
   ]
  },
  {
   "cell_type": "code",
   "execution_count": null,
   "id": "44910b5e-cf2b-45d5-9b5e-76f78e0c0ee9",
   "metadata": {
    "tags": []
   },
   "outputs": [],
   "source": [
    "results"
   ]
  },
  {
   "cell_type": "code",
   "execution_count": null,
   "id": "d1951c51-26bd-407f-8f48-76143343a0ec",
   "metadata": {},
   "outputs": [],
   "source": []
  },
  {
   "cell_type": "markdown",
   "id": "65d2faa6-72c0-4f06-a7ea-53a97267775d",
   "metadata": {},
   "source": [
    "### 6. Import into QGIS and export the map"
   ]
  },
  {
   "cell_type": "markdown",
   "id": "2b88e9b8-b28c-4c4c-993d-2f9c9d55b965",
   "metadata": {
    "tags": []
   },
   "source": [
    "![QGIS](images/qgis.png)"
   ]
  },
  {
   "cell_type": "code",
   "execution_count": null,
   "id": "8e12a1a1-db22-49a5-b0d6-7148cfb4ea65",
   "metadata": {},
   "outputs": [],
   "source": []
  },
  {
   "cell_type": "markdown",
   "id": "decc6da7-8d23-499d-ad53-7561c9dac17f",
   "metadata": {},
   "source": [
    "![Net Domestic Migration by County: 2020-2022](images/net-domestic-migration-dots-100.png)"
   ]
  },
  {
   "cell_type": "code",
   "execution_count": null,
   "id": "3af13f32-d9d2-419e-931f-a80ba79cabb1",
   "metadata": {},
   "outputs": [],
   "source": []
  }
 ],
 "metadata": {
  "kernelspec": {
   "display_name": "Python 3 (ipykernel)",
   "language": "python",
   "name": "python3"
  },
  "language_info": {
   "codemirror_mode": {
    "name": "ipython",
    "version": 3
   },
   "file_extension": ".py",
   "mimetype": "text/x-python",
   "name": "python",
   "nbconvert_exporter": "python",
   "pygments_lexer": "ipython3",
   "version": "3.10.10"
  }
 },
 "nbformat": 4,
 "nbformat_minor": 5
}
